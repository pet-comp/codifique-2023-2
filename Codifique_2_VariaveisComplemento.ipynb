{
  "nbformat": 4,
  "nbformat_minor": 0,
  "metadata": {
    "colab": {
      "provenance": []
    },
    "kernelspec": {
      "name": "python3",
      "display_name": "Python 3"
    },
    "language_info": {
      "name": "python"
    }
  },
  "cells": [
    {
      "cell_type": "markdown",
      "source": [
        "# Variáveis\n",
        "\n",
        "Levar folhas de papel A4, lápis, caneta.\n",
        "\n",
        "### Padaria do Codifique\n",
        "O Zap decidiu que vai abrir uma padaria e me mandou uma mensagem perguntando se eu poderia fazer um Algoritmo para ajudá-lo a organizar a padaria.\n",
        "\n",
        "### O que o nosso código vai fazer?\n",
        "Ler a quantidade de cada produto\n",
        "\n",
        "Multiplicar pelo valor do produto\n",
        "\n",
        "Somar todos esses valores\n",
        "\n",
        "Imprimir o valor obtido\n",
        "\n",
        "---\n",
        "Primeiro precisamos decidir o que a nossa padaria vende.\n",
        "\n",
        "Sabendo todos os produtos, vamos definir as variáveis que usaremos no problema.\n",
        "\n",
        "### Algoritmo\n",
        "Primeiro vamos inicializar e definir nossas variáveis\n",
        "```\n",
        "preco_pao_de_queijo = 2\n",
        "preco_bolo = 10\n",
        "quantidade_pao_de_queijo = 0\n",
        "quantidade_bolo = 0\n",
        "total_compra = 0\n",
        "```\n",
        "\n",
        "Agora vamos ler as quantidades compradas\n",
        "```\n",
        "leia quantidade_pao_de_queijo\n",
        "leia quantidade_bolo\n",
        "```\n",
        "\n",
        "Fazemos o cálculo total da compra\n",
        "```\n",
        "total_compra = (quantidade_pao_de_queijo * preco_pao_de_queijo) + (quantidade_bolo * preco_bolo)\n",
        "```\n",
        "\n",
        "E por fim imprimimos o valor calculado\n",
        "```\n",
        "imprima total_compra\n",
        "```\n",
        "\n"
      ],
      "metadata": {
        "id": "AYdkkB3Ip9pW"
      }
    },
    {
      "cell_type": "code",
      "execution_count": null,
      "metadata": {
        "id": "_YOhrIuhp5jY"
      },
      "outputs": [],
      "source": []
    }
  ]
}