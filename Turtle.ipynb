{
  "nbformat": 4,
  "nbformat_minor": 0,
  "metadata": {
    "colab": {
      "provenance": []
    },
    "kernelspec": {
      "name": "python3",
      "display_name": "Python 3"
    },
    "language_info": {
      "name": "python"
    }
  },
  "cells": [
    {
      "cell_type": "markdown",
      "source": [
        "#**Bibliotecas**"
      ],
      "metadata": {
        "id": "olPleeyD0ktt"
      }
    },
    {
      "cell_type": "markdown",
      "source": [
        "Antes de começar sua programação Python, você precisa entender o que é uma biblioteca. No mundo não-informático, uma biblioteca é um lugar onde são armazenados diferentes tipos de livros. Você pode acessar esses livros a qualquer momento, pegar qualquer informação que precisar deles e devolvê-los no mesmo lugar.\n",
        "\n",
        "No mundo da informática, uma biblioteca funciona de forma semelhante. Por definição, uma biblioteca é um **conjunto de funções e métodos** importantes que você pode acessar para facilitar sua programação. A biblioteca `turtle`, por exemplo, contém diversos métodos e funções que você precisa para criar imagens. Para acessar uma biblioteca Python, você precisa importá-la para seu ambiente Python, assim:"
      ],
      "metadata": {
        "id": "PicWeaaR0tQp"
      }
    },
    {
      "cell_type": "code",
      "source": [
        "import turtle"
      ],
      "metadata": {
        "id": "MyL3QzNg04f9"
      },
      "execution_count": null,
      "outputs": []
    },
    {
      "cell_type": "markdown",
      "source": [
        "# **Biblioteca Turtle**"
      ],
      "metadata": {
        "id": "eUlAyUFcthVV"
      }
    },
    {
      "cell_type": "markdown",
      "source": [
        "Agora que já entendemos o conceito de **bibliotecas** em Python, vamos conhecer a biblioteca que utilizaremos em nosso projeto final, a **Turtle**!"
      ],
      "metadata": {
        "id": "S2ZtuUzo0bHA"
      }
    },
    {
      "cell_type": "markdown",
      "source": [
        "`turtle` é uma biblioteca Python pré-instalada que permite aos usuários criar imagens e formas, fornecendo-lhes uma tela virtual. A caneta na tela que você usa para desenhar é chamada de turtle (tartaruga) e é isso que dá nome à biblioteca. Resumindo, a biblioteca `turtle` ajuda os novos programadores a ter uma ideia de como é a programação com Python de uma maneira divertida e interativa."
      ],
      "metadata": {
        "id": "bB399j2S1Krt"
      }
    },
    {
      "cell_type": "markdown",
      "source": [
        "##Começando com o Turtle"
      ],
      "metadata": {
        "id": "ehyMOBmV432f"
      }
    },
    {
      "cell_type": "markdown",
      "source": [
        "Antes de continuar, há duas coisas importantes que você precisa fazer:\n",
        "\n",
        "* **Ambiente Python:** Certifique-se de estar familiarizado com seu ambiente de programação. Você pode usar aplicativos como IDLE ou Jupyter Notebook (este) para programar com `turtle`.\n",
        "\n",
        "* **Versão do Python:** Certifique-se de ter a versão 3 do Python em seu computador. Caso contrário, você pode baixá-lo no site do Python. Para obter ajuda na configuração, consulte o guia de instalação e configuração do Python 3, ou peça ajuda a um dos monitores.\n",
        "\n",
        "O bom do `turtle` é que ele é uma biblioteca embutida, então você não precisa instalar nenhum novo pacote. Tudo que você precisa fazer é importar a biblioteca para seu ambiente Python."
      ],
      "metadata": {
        "id": "0r5BbAFH4_m9"
      }
    },
    {
      "cell_type": "markdown",
      "source": [
        "### Criando uma tela e tartaruga"
      ],
      "metadata": {
        "id": "H2m3Jv0x56eD"
      }
    },
    {
      "cell_type": "markdown",
      "source": [
        "Agora que você tem o `turtle` em seu ambiente Python, você pode começar a programar com ele. `turtle` é uma biblioteca gráfica, o que significa que você precisará criar uma janela separada (chamada de tela) para executar cada comando de desenho. Você pode criar esta tela inicializando uma variável para ela.\n",
        "\n",
        "Como visto anteriormente, você usa variáveis ​​para armazenar informações que usará posteriormente em seu programa. Você inicializa uma variável quando atribui um valor inicial a ela. Como o valor da variável não é constante, ele pode mudar várias vezes durante a execução do seu programa.\n",
        "\n",
        "Agora, para abrir a tela do `turtle`, você inicializa uma variável para ela da seguinte maneira:"
      ],
      "metadata": {
        "id": "EBIv5Hqj57Yn"
      }
    },
    {
      "cell_type": "code",
      "source": [
        "import turtle\n",
        "\n",
        "s = turtle.getscreen()"
      ],
      "metadata": {
        "id": "OohCKrbb595T"
      },
      "execution_count": null,
      "outputs": []
    },
    {
      "cell_type": "markdown",
      "source": [
        "O objeto principal da biblioteca turtle é uma \"tartaruga\", ela deve ser guardada em uma váriavel que você vai utilizar para desenhar diferentes coisas na tela, para criar uma tartaruga usa-mos a seguinte função:"
      ],
      "metadata": {
        "id": "W_usQbjhoR-Y"
      }
    },
    {
      "cell_type": "code",
      "source": [
        "t = turtle.Turtle()"
      ],
      "metadata": {
        "id": "LhB6XGxyoiFR"
      },
      "execution_count": null,
      "outputs": []
    },
    {
      "cell_type": "markdown",
      "source": [
        "##Programando com Turtle\n",
        "\n",
        "Agora que temos nossa \"tartaruga\", vamos aprender a move-la.\n",
        "Com a `turtle`, podemos **mover a tartaruga para frente e para trás**, com os comandos `.forward()` (para frente)  e `.backward()` (para trás).\n",
        "\n",
        "Para **mover a tartaruga para outras direções, devemos a rotacionar** com os comandos `.left(ang)` (para a esquerda)  e `.right(ang)` (para a direita), em que \"ang\" é o ângulo desejado na rotação.\n",
        "\n",
        "Exemplo:"
      ],
      "metadata": {
        "id": "r6QfNr_J7Giq"
      }
    },
    {
      "cell_type": "code",
      "source": [
        "t.right(90)      # Rotacionando em 90º para a direita\n",
        "t.forward(100)   # Movendo 100 unidades para frente\n",
        "t.left(90)       # Rotacionando em 90º para a esquerda\n",
        "t.backward(100)  # Movendo 100 unidades para trás"
      ],
      "metadata": {
        "id": "Jk5jMgKEhJxT"
      },
      "execution_count": null,
      "outputs": []
    },
    {
      "cell_type": "markdown",
      "source": [
        "![Update_-_Moving_Turtle_VIDEO_GIF.webp](data:image/webp;base64,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)"
      ],
      "metadata": {
        "id": "8b-uzHzZheES"
      }
    },
    {
      "cell_type": "markdown",
      "source": [
        "Uma forma alternativa de **girar a tartaruga** é utilizando a função `.setheading(ang)`, em que \"ang\" o ângulo desejado na rotação.\n",
        "Neste caso, **o programa sempre gira a tartaruga no sentido horário**, não sendo necessário especificar a direção (como feito anteriormente).\n",
        "\n",
        "O programa visto anteriormente pode ser feito com a função `setheading()` da seguinte forma:"
      ],
      "metadata": {
        "id": "VpPEp6JYnzb8"
      }
    },
    {
      "cell_type": "code",
      "source": [
        "t.setheading(90)   # Rotacionando em 90º para a direita (90º no sentido horário)\n",
        "t.forward(100)     # Movendo 100 unidades para frente\n",
        "t.setheading(270)  # Rotacionando em 90º para a esquerda (270º no sentido horário)\n",
        "t.backward(100)    # Movendo 100 unidades para trás"
      ],
      "metadata": {
        "id": "XCZ3ecWZoihF"
      },
      "execution_count": null,
      "outputs": []
    },
    {
      "cell_type": "markdown",
      "source": [
        "Além disso, podemos **mover a tartaruga diretamente para um ponto específico** de nossa tela, para isso, utilizamos o comando `goto(x, y)`, em que \"x\" e \"y\" são as **coordenadas** no eixo X e no eixo Y do ponto desejado, respectivamente.\n",
        "\n",
        "Obs.: A coordenada inicial da nossa tartaruga é a (0,0).\n",
        "\n"
      ],
      "metadata": {
        "id": "TDPPaW7PkyGf"
      }
    },
    {
      "cell_type": "markdown",
      "source": [
        "![imagem_2022-10-20_160245002.png](data:image/png;base64,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)"
      ],
      "metadata": {
        "id": "zrUMy6h1lLlc"
      }
    },
    {
      "cell_type": "markdown",
      "source": [
        "Exemplo:"
      ],
      "metadata": {
        "id": "EphoX1XNlNUk"
      }
    },
    {
      "cell_type": "code",
      "source": [
        "t.goto(100,100)"
      ],
      "metadata": {
        "id": "5Nbc4TFWl0An"
      },
      "execution_count": null,
      "outputs": []
    },
    {
      "cell_type": "markdown",
      "source": [
        "![TURTLE_EDIT_GOTO_GIF.webp](data:image/webp;base64,UklGRggOAABXRUJQVlA4WAoAAAACAAAA3wEAzwEAQU5JTQYAAAAAAAAAAABBTk1GXAUAAAAAAAAAAN8BAM8BAEYAAAJWUDhMRAUAAC/fwXMANXh2tu1Ra23bPOMK3O27fa9Bbt26m7l5t+9FybF1r0aOtsY0w9kaJjiBigqqwqAsk1RcQddVgGgU9p1BdafrOCL6PwGKAln6PBylypLkUi0mg95YL4QCdGYW42FfKErurMiUXQqptBE0VMJKGCmk0YqSLwtSMyO0BJTOlNFSWa2k0YqUgIA2SgOATJdWSQACktqovdDqgX/fqLeEyus0rj8+hD2thKZBv1lHo61IubOYfvtpbqWA1EhNq2c1qbZqQyq22kgGQirSCGlSDLraUJGUdhz0JRRJTYNUaoVxV2lOgrnSC22kgNoLZTarN6OYfivNyaQexGEQTpQ0msNGwJDoix1mcXTGw6FVWpok3NTCJY00ACyMkoS4vvjzpb+WyGCN7jc2QXlpNKB01j65Or6eLy0ywOSXKixvETqzWpklNLkHCPb8ZhCFUX2US73AB8lYKqMZeSEZRI2p2l3t8Xh1fRcMVSs8OR5UrsrBVHjXHjr1qqcMuUzOV71AD8LFw2N487ueX7ONM3++EKaUbBbVZ9wTUSU0Q79yL+OLSj2dBap3X3uetspP6VLufhD0fISsR+jnRo3E8xGwrrQiEQakHz9Odhh90pud+PU79bZzd6MqR61SLzxuIaj9MSo9WZWa5NwmFcTX6e+85/BkFlST884ZVnpyYhatblo57Iwehled5p/jCz/+c+uq3j9fvH1o1OJS52EuIAHsdhRMvCgJg6gxyI3rUciAjBRJ2fRz4eNI7i7mT+dntbR/2b5Sj41N2Vs1WA03T5cP9VU1spq5sIKkMitpm1yug7vKJzclLxPDN2JW/XNU8zLpXR810Vh3r+KyjCvD68FRZuT84iyWWqjdDxz7ERkGUZoT8bbRln4z12ylO8yiNBCK8t1hZP3q5i7IHr27qq2B9eze04o6OTft68XjzfxE2valbb57vJ52B4ppKbHPh+2HcBOej94261fWqyZ3q97l4Gp6PJbt+ZBHLa12Pw2K2EcLjbbNmUHk+QGZ5uw8zHnjpdxd1dmzkVa3fj2Ww8PefVPfe7M3x6Xnh6ZhoLYtzi5PytNjYQafBP799OTqfCJVlhy/ZVlWm3Z0fvGm6f3h4qiXPNrOdf9G35Uuvf7Z1cVULxRJvdsrajWOm080Mods/uTFzwupSA2gFxISgNpZAZCcPZalkQuSAgC3SiFzChRY/JVHU2Xli/f12UK9Vis5n2qSud1eK60ybSQVFwKA3KqoX1Sk3oHF8H6iV1QkNUn1ogRJAPwraxqS6sV211jzWmu0gFSk3gtX1ti1pbEADCwyknil2X017DIDQJAEAG4FDHQeAOxf04AA7NaMS2YEX419MQYQkQQAAgiQAACJPLcC0U4LJCBbDPHqJI+/OUliewQgAaJXA8leqJUusBWZbQruFVW3ne8U0+xt1vF3f8Qfkz8ppn/wqw2jn81FcT3ubNj8mWVxLbobRj8vtDpr+oXWvEcGPzMFluhuGPzcOv85/zn/Of85/zn/Of85/zn/Of85/zn/Of85/zn/Of85/zn/Of85/zn/Of85/zn/Of/994M1V7bYItWm6PrSL6Ybcl1gffvgy78qto4+Ovjgq5dFlvjKAfDeTwus+NMH+NR3/FVx9bODj7/1brNP71+f+eyfNvv1/vVLw4KLXKPgwpoF197t/Of85/zn/Of85/zn/Of85/zn/Of85/zn/Of85/zn/Of85/zn/Of85/zn/Of85ywlO2vnETL86dwUy/rVs6f1Jv7DqFcsd8kO2i/211itN0U2mEexvALW2Aas8AxBTk1GKgAAAAAAAAAAAAAAAAAAADwAAAJWUDhMEQAAAC8AAAAAB9D61re+/4GI6H8AAEFOTUYqAAAAAAAAAAAAAAAAAAAARgAAAlZQOEwRAAAALwAAAAAH0PrWt77/gYjofwAAQU5NRggBAAB1AABrAAAfAAAhAABGAAACVlA4TPAAAAAvH0AIAAXc2rZVK/f/7KNVOJm7Q0bmTkodZIRkDGJCWviuGe7agtt9e6yQcwcUENH/CeCPKhga3Th8D8KW69t+CHLV4Fz7wXMAbbpYPLH3bHfdFHf1bU+y8uy72u6pwhfmGurc3ah8YC6fTW6cYC94WMohuy+OFpKATATifKaAMBZfnCylEOBNgMPpCuYCLudyIBnxxvFcHhCmAs7nCxBZAcczORA2As6XCgA/2L5xvlQA8BgK4HwmCwL0ux95cT6XwoNMEFysFBDWinS+UgRkhe7nCvxEsjtaTOEJqJ0ywlyS/wJkBgJFCoGERGDxPwNBTk1GvAEAAHgAAF8AADIAABEBADwAAAJWUDhMpAEAAC8yQEQAhSRr25Y3CQ4bsJmP3Bfh8p/YDB2yA1bAjDU4bMBJ2z8/Lmn+1N07wyXyPefG5emcRvR/AvAWc9BLfBB8aFnV6dl/BVpNpwavd2dOPGlh3eTS4syac71Wgff7MpnMyisgG3i2NrNk6aZbRp8D5zMrNm/vwXp2854LUUdoyGnk5p39L7BuNEjPVt4bCUR3lCAv0mIJ4VU5+AT3NBuDZFU9VgaEp35Qf/QQgosEojtKELYKQFosIYwDVA4+wVtUszFITnRGZUA492VjCEYSPdFTEEZ1aoUyQBNPgejJlRG0sKmT5tv5qUyAysEnuPVmY5B+MA2k2TIgTAWidrwdgpHqpMdKIKwrxxLce7MxQMunTjVbxlggunMJgHzqpMdj3CsHO3AW0JuNASQXPlLNlnEW0J1LACQXoHY8xllAb7ED74/U8gmATAJAd74d59CCNGongGQSBN3FBGs16S4muPdHMchKnYUSLbx18THCW606IDNQkBkSEv5i3v/z/v8P7foffv706eOHf1yv16f+cHJyfHzs345PTk0xF/Xn4V9LAkFOTUbiAQAAgAAAVAAAOAAAJwEARgAAAlZQOEzKAQAALzjASQCFHG3b1ljJwW0RUNG6tlQOk4wja2ALp6anYyM+kuOejHBRaeuaa+Z/r6fIDPL9uEb0fwKwLfwVDHx5DiCQubeHJp/CcOABV4I91wU4e/Nbg+DEbSfJmssKQRAEk5gX/V3BxKadUwxsCbgW7Nh/bArrGvBu9/Gr1TkQMiQJ3t6Yu3yHnGU5cNyP2gyxLClHGt7AuESuF04hY3lHEsYIH1cKMQ7zEv3KFO+QuYy02sTPfrmNPMjoVRvkh9bonp9jtMxIuX59Ch9FN4oRkjmS2h2Ej2khRlh3wGqlibAuQXp2Cj/TcAokD3phGxDGHSRhDM4erBVihGmNSqMpHLYdIPqVKd5hTgPSahOQsXy/3EZYF0O61Qb5oS2ge36O0bIk6Nen8LMbxQjJkkZ0a3cQtjVi7fwso2XIAd2oBVLOsoMkagLCulgrt8B5wGrUAIeH90otPJToRXMAspaRVtsAzpRA9MpthHWRkVQa+LlyehY/+6UWSOYcSakNCNMCkYYNcOaUkRTugPBwpRDjw4C1coyfaaWFn91SjKe1FiAvYjyWL0O+vvoK/ff/f///9/8vqm/fvDaejX/48MHnffjxT8bjr5x1jQdBTk1GaAAAAJYAAFoAAAMAAAMAAEYAAAJWUDhMTwAAAC8DwAAAT6CQjSQ4uJ/AMqzRgZxiRpLg4FwCwzBGC7KKGUmCg3MJDMMYLcjOf9xdkiT5fyS1JQlJ2yQBxQDQQBblEUEaQ9r/No/ofzzDKCUAQU5NRioAAAAAAAAAAAAAAAAAAAA8AAACVlA4TBEAAAAvAAAAAAfQ+ta3vv+BiOh/AABBTk1GKgAAAAAAAAAAAAAAAAAAAEYAAAJWUDhMEQAAAC8AAAAAB9D61re+/4GI6H8AAEFOTUYqAAAAAAAAAAAAAAAAAAAARgAAAlZQOEwRAAAALwAAAAAH0PrWt77/gYjofwAAQU5NRioAAAAAAAAAAAAAAAAAAAA8AAACVlA4TBEAAAAvAAAAAAfQ+ta3vv+BiOh/AABBTk1GKgAAAAAAAAAAAAAAAAAAAEYAAAJWUDhMEQAAAC8AAAAAB9D61re+/4GI6H8AAEFOTUYqAAAAAAAAAAAAAAAAAAAARgAAAlZQOEwRAAAALwAAAAAH0PrWt77/gYjofwAAQU5NRioAAAAAAAAAAAAAAAAAAAA8AAACVlA4TBEAAAAvAAAAAAfQ+ta3vv+BiOh/AABBTk1GKgAAAAAAAAAAAAAAAAAAAEYAAAJWUDhMEQAAAC8AAAAAB9D61re+/4GI6H8AAEFOTUYqAAAAAAAAAAAAAAAAAAAARgAAAlZQOEwRAAAALwAAAAAH0PrWt77/gYjofwAAQU5NRioAAAAAAAAAAAAAAAAAAAA8AAACVlA4TBEAAAAvAAAAAAfQ+ta3vv+BiOh/AABBTk1GKgAAAAAAAAAAAAAAAAAAAEYAAAJWUDhMEQAAAC8AAAAAB9D61re+/4GI6H8AAEFOTUYqAAAAAAAAAAAAAAAAAAAARgAAAlZQOEwRAAAALwAAAAAH0PrWt77/gYjofwAAQU5NRioAAAAAAAAAAAAAAAAAAAA8AAACVlA4TBEAAAAvAAAAAAfQ+ta3vv+BiOh/AABBTk1GKgAAAAAAAAAAAAAAAAAAAEYAAAJWUDhMEQAAAC8AAAAAB9D61re+/4GI6H8AAEFOTUYqAAAAAAAAAAAAAAAAAAAARgAAAlZQOEwRAAAALwAAAAAH0PrWt77/gYjofwAA)"
      ],
      "metadata": {
        "id": "ImiS_aeYl055"
      }
    },
    {
      "cell_type": "markdown",
      "source": [
        "Caso queiramos **retornar a tartaruga para a posição inicial**, podemos utilizar `goto(0,0)` (comando `.goto()` para a coordenada (0,0)) ou simplesmente utilizar o comando `.home()`."
      ],
      "metadata": {
        "id": "i_JX1PkZl_xF"
      }
    },
    {
      "cell_type": "markdown",
      "source": [
        "## Outras utilidades importantes\n",
        "\n",
        "Agora que temos um pouco mais de familiaridade com a `turtle`, vamos aprender **algumas rotinas úteis** que serão utilizadas em nosso **projeto final**, e você poderá utilizar em seus futuros projetos com a biblioteca.\n",
        "\n",
        "### ShowTurtle e HideTurtle:\n",
        "A rotina `.hideturtle()` ou `.ht()` **retira a tartaruga da tela**, fazendo com que ela se torne invisível e **não possa ser utilizada**.\n",
        "\n",
        "Já a rotina `.showturtle` ou `.st()` **\"desfaz\" aquilo que foi feito na rotina anterior, fazendo com que a tartaruga reapareça** e possamos continuar a utilizá-la.\n",
        "\n",
        "### Distance:\n",
        "A rotina `.distance(x,y)` **retorna a distância entre a tartaruga e as coordenadas** passadas como parâmetro.\n",
        "Por exemplo, caso a tartaruga esteja na coordenada (2,0), a rotina `t.distance(0,0)` nos retornaria \"2\".\n",
        "\n",
        "Esta rotina pode também retornar a **distância entre duas tartarugas**.\n",
        "### Pos:\n",
        "A rotina `.pos()` **retorna a posição atual da tartaruga em forma de coordenadas**.\n",
        "Por exemplo, caso utilizemos o comando `t.goto(3,5)`, e logo em seguida o comando `t.pos()`, o retorno seria (3,5).\n",
        "\n",
        "### Penup e Pendown:\n",
        "A rotina `penup()` faz com que **a tartaruga não mais desenhe** enquanto se move.\n",
        "\n",
        "Já a `pendown()` faz com que ela **volte a desenhar** ao se mexer.\n",
        "\n",
        "### Clear:\n",
        "A função `clear()` **apaga os desenhos** feitos pela tartaruga.\n",
        "\n",
        "### Write:\n",
        "A rotina `write(texto, \"fonte\", \"tamanho\", \"tipo\")` nos permite **digitar um texto** a partir da posição atual da tartaruga.\n",
        "Exemplo: `t.write(\"Turtle\", \"Arial\", 12, \"bold\")` faria com que a palavra \"Turtle\" fosse escrita na tela, em fonte arial, tamanho 12 e em negrito.\n",
        "\n",
        "### OnKey:\n",
        "Por fim, a rotina `onkey(funcao(), \"tecla\")` nos permite **associar uma função de nosso programa à uma telca do teclado do usuário**.\n",
        "Por exemplo, ao utilizarmos `onkey(minhafuncao(), \"Up\")`, toda vez que o **usuário apertasse a \"setinha para cima\"**, a função **\"minhafuncao()\" seria chamada** no programa em execução."
      ],
      "metadata": {
        "id": "1X3oQd_YmoEN"
      }
    },
    {
      "cell_type": "markdown",
      "source": [
        "## Customização"
      ],
      "metadata": {
        "id": "ibgleK-_ufcI"
      }
    },
    {
      "cell_type": "markdown",
      "source": [
        "Para finalizar o conteúdo da `Turtle`, vamos dar uma olhadinha em algumas **funções de personalização**, alguns comandos para **customizar o estilo e dinâmica** do seu projeto.\n",
        "\n",
        "### Customizando a tela\n",
        "Para customizar nossa tela, utilizamos as rotinas `.bgcolor()` e `.screensize()`.\n",
        "\n",
        "A `.bgcolor(\"cor\")` **altera a cor da tela** do nosso jogo para a cor passada por parâmetro, a qual pode ser especificada por **extenso ou por hexadecimal**.\n",
        "\n",
        "Já a `.screensize(x,y)` **altera as dimensões de nossa tela**, recebendo como parâmetro o **tamanho as dimensões \"x\" (horizontal) e \"y\" (vertical)**.\n",
        "\n",
        "### Customizando a tartaruga\n",
        "Para customizar a tartaruga, utilizamos as rotinas `.turtlesize()`, `.color()` e `.shape()`.\n",
        "\n",
        "A `.turtlesize(\"largura\", \"altura\", \"contorno\")` **altera o tamanho da tartaruga** de acordo com as **dimensões passadas por parâmetro**. Por exemplo, ao utilizarmos `t.turtlesize(2, 3, 1)`, a tartaruga passaria a ter um tamanho de 2 unidades na horizontal, 3 unidades na vertical, e contorno de 1 unidade.\n",
        "\n",
        "A `.color(\"cor\")`, por sua vez, **altera a cor da tartaruga** para a cor passada por parâmetro, a qual também pode ser especificada por **extenso ou hexadecimal**.\n",
        "\n",
        "Já a `.shape(\"formato\")` **define o formato de nossa tartaruga**. Por exemplo, ao utilizar `t.shape(\"square\")` a tartaruga assumiria forma de um quadrado.\n",
        "\n",
        "### Customizando a velocidade\n",
        "Para customizar a velocidade de nosso jogo utilizaremos as rotinas `.speed()` e `.sleep()`.\n",
        "\n",
        "A rotina `.speed(\"velocidade\")` **altera a velocidade de nossa tartaruga** para o valor passado como parâmetro. Quanto maior o valor inserido, mais rápida a nossa tartaruga.\n",
        "\n",
        "Já a `.sleep(\"delay\")` **adiciona um \"delay\" (atraso) ao nosso programa**, ou seja, um **intervalo de tempo entre a exibição dos quadros** do nosso jogo.\n",
        "\n",
        "O valor do delay é passado como parâmetro da função, e quanto maior esse valor, mais lento ficará o nosso programa."
      ],
      "metadata": {
        "id": "ib7K7hTSR1KG"
      }
    },
    {
      "cell_type": "markdown",
      "source": [
        "# Exercícios"
      ],
      "metadata": {
        "id": "tLqUA9BXncDB"
      }
    },
    {
      "cell_type": "markdown",
      "source": [
        "### 1)\n",
        "\n",
        "Faça uma função que cria uma tartaruga personalizada com a cor, o formato e o tamanho que você quiser na posição que você passar e use essa função para exibir 3 dessas tartarugas em posições diferentes na tela. A função tem como parametro a posição x e y em que você quer a tartaruga apareça e retorna a tartaruga personalizada.\n",
        "\n",
        "\n",
        "> cria_tartaruga(x, y)\n",
        "\n",
        "\n",
        "Exemplo, criando 3 tartarugas, cada uma em uma posição diferente:\n",
        "\n",
        "    tarta1 = cria_tartaruga(20,0)\n",
        "    tarta2 = cria_tartaruga(0,20)\n",
        "    tarta3 = cria_tartaruga(0,0)"
      ],
      "metadata": {
        "id": "T5Hv9NWbnean"
      }
    },
    {
      "cell_type": "markdown",
      "source": [
        "### 2)\n",
        "Faça uma função para desenhar um quadrado com o tamanho do lado que for passado (use as funções forward e left). Usando essa sua função criada, desenhe quadrados de vários tamanhos. O tamanho do lado do quadrado é um parametro da função.\n",
        "\n",
        "> desenha_quadrado(tamanho_lado)\n",
        "\n",
        "\n",
        "Exemplo:\n",
        "\n",
        "      desenha_quadrado(30)\n",
        "      desenha_quadrado(10)\n"
      ],
      "metadata": {
        "id": "feDAEgyEo7Xf"
      }
    },
    {
      "cell_type": "markdown",
      "source": [
        "#### 2 - Extra\n",
        "Modifique a função do exercício 2 para receber também como parametros a posição x e y em que você quer desenhar o quadrado, assim utilize a função para desenhar quadrados em diferentes posições da tela.\n",
        "\n",
        "> desenha_quadrado(tamanho_lado, x, y)\n",
        "\n",
        "\n",
        "Exemplo:\n",
        "\n",
        "      desenha_quadrado(30, 0, 0)\n",
        "      desenha_quadrado(10, 0, 30)"
      ],
      "metadata": {
        "id": "vMaR-DmusKwP"
      }
    },
    {
      "cell_type": "markdown",
      "source": [
        "###3)\n",
        "Como no jogo da cobrinha (calma, coração, ainda não é o projeto final), crie uma tartaruga que aparece em lugares aleatórios! Para isso, lembre ou pergunte aos monitores sobre a biblioteca `random`"
      ],
      "metadata": {
        "id": "Jtrw5-yGit37"
      }
    },
    {
      "cell_type": "markdown",
      "source": [
        "### 4)\n",
        "Utilizando a função \"onkey\", faça a tartaruga se mover ao clicar nas setinhas do teclado. Se você clicar a seta para cima a tartaruga deve se mover para cima, se clicar para baixo, deve se mover para baixo e assim por diante.\n",
        "\n",
        "(Recomendo criar 4 funções, uma para mover pra cima, baixo, esquerda e direita. E usar o onkey para chamar essas funções ao clicar nas teclas direcionais)"
      ],
      "metadata": {
        "id": "IRmO2l1EtBWH"
      }
    }
  ]
}