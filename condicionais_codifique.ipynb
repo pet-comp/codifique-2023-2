{
  "nbformat": 4,
  "nbformat_minor": 0,
  "metadata": {
    "colab": {
      "provenance": []
    },
    "kernelspec": {
      "name": "python3",
      "display_name": "Python 3"
    },
    "language_info": {
      "name": "python"
    }
  },
  "cells": [
    {
      "cell_type": "markdown",
      "source": [
        "# **Aula 3 - Estruturas Condicionais**"
      ],
      "metadata": {
        "id": "jZHFlfwsJsWw"
      }
    },
    {
      "cell_type": "markdown",
      "source": [
        "Até agora, vimos e fizemos algoritmos em que todos os comandos são executados em sequência, incondicionalmente.\n",
        "\n",
        "Porém, muitas vezes precisamos tomar decisões pra resolver um problema ou garantir que nossos dados continuem consistentes.\n",
        "\n",
        "Para isso, usamos as **estruturas condicionais**, também conhecidas como controle de fluxo."
      ],
      "metadata": {
        "id": "FdRcYNj_uO33"
      }
    },
    {
      "cell_type": "code",
      "execution_count": null,
      "metadata": {
        "id": "wHQ5FIFdHB_x"
      },
      "outputs": [],
      "source": [
        "# Estrutura condicional simples:\n",
        "\n",
        "condicao = True\n",
        "\n",
        "if condicao == True:\n",
        "  print(\"olá\")\n",
        "else:\n",
        "  print(\"tchau\")"
      ]
    },
    {
      "cell_type": "code",
      "source": [
        "# Exemplo usado em aula:\n",
        "\n",
        "num1 = int(input())\n",
        "num2 = int(input())\n",
        "\n",
        "if num1 > num2:\n",
        "  print(\"O primeiro numero é maior\")\n",
        "if num1 < num2:\n",
        "  print(\"O segundo numero é maior\")\n",
        "if num1 == num2:\n",
        "  print(\"Os dois numeros sao iguais\")\n",
        "\n"
      ],
      "metadata": {
        "id": "hzhfPXuurbBn",
        "colab": {
          "base_uri": "https://localhost:8080/"
        },
        "outputId": "453b2310-8696-41a9-a3e4-0a659f4e1424"
      },
      "execution_count": null,
      "outputs": [
        {
          "output_type": "stream",
          "name": "stdout",
          "text": [
            "5\n",
            "3\n",
            "O primeiro nimero é maior\n"
          ]
        }
      ]
    },
    {
      "cell_type": "code",
      "source": [
        "# Estrutura condicional composta:\n",
        "import random as r\n",
        "\n",
        "resposta = r.randint(1,10)\n",
        "\n",
        "chute = int(input(\"Estou pensando em um número de 1 a 10. Em qual número estou pensando? \"))\n",
        "\n",
        "if chute == resposta:\n",
        "  print(\"Parabéns! Você acertou :)\")\n",
        "elif chute < 1 or chute > 10:\n",
        "  print(\"Ops! O número digitado não é válido.\\n\")\n",
        "else:\n",
        "  print(\"Poxa, não foi dessa vez :( \\nA resposta era\", resposta)"
      ],
      "metadata": {
        "colab": {
          "base_uri": "https://localhost:8080/"
        },
        "id": "5Bw8PcR2vv2P",
        "outputId": "780b8b79-0751-4cc8-d079-cbaa3bfe209e"
      },
      "execution_count": null,
      "outputs": [
        {
          "output_type": "stream",
          "name": "stdout",
          "text": [
            "Estou pensando em um número de 1 a 10. Em qual número estou pensando? 6\n",
            "Poxa, não foi dessa vez :( \n",
            "A resposta era 2 .\n"
          ]
        }
      ]
    },
    {
      "cell_type": "code",
      "source": [
        "# Exemplo usado em aula:\n",
        "\n",
        "num1 = int(input())\n",
        "num2 = int(input())\n",
        "\n",
        "if num1 > num2:\n",
        "  print(\"0 primeiro numero é maior\")\n",
        "elif num1 < num2:\n",
        "  print(\"0 segundo numero é maior\")\n",
        "elif num1 == num2:\n",
        "  print(\"0s dois nimeros sao iguais\")\n",
        "\n"
      ],
      "metadata": {
        "id": "bgQyCIjQrhUI",
        "colab": {
          "base_uri": "https://localhost:8080/"
        },
        "outputId": "8dec945f-c342-4fa3-b3ce-4dd8ebb3130c"
      },
      "execution_count": null,
      "outputs": [
        {
          "output_type": "stream",
          "name": "stdout",
          "text": [
            "5\n",
            "3\n",
            "0 primeiro nimero é maior\n"
          ]
        }
      ]
    },
    {
      "cell_type": "code",
      "source": [
        "num1 = int(input())\n",
        "num2 = int(input())\n",
        "\n",
        "if num1 > num2:\n",
        "  print(\"0 primeiro numero é maior\")\n",
        "elif num1 < num2:\n",
        "  print(\"0 segundo numero é maior\")\n",
        "else:\n",
        "  print(\"Os dois numeros sao iguais\")"
      ],
      "metadata": {
        "id": "5CfDj8upuKy-",
        "colab": {
          "base_uri": "https://localhost:8080/"
        },
        "outputId": "cc848db4-aeee-432a-ecf3-bb58c2cbd369"
      },
      "execution_count": null,
      "outputs": [
        {
          "output_type": "stream",
          "name": "stdout",
          "text": [
            "2\n",
            "2\n",
            "Os dois nimeros sao iguais\n"
          ]
        }
      ]
    },
    {
      "cell_type": "code",
      "source": [
        "# Estrutura condicional encadeada:\n",
        "\n",
        "idioma = input(\"Escolha um idioma da lista:\\nIngles\\nItaliano\\n\").lower()\n",
        "mensagem = input(\"Escolha uma mensagem para traduzir: \\n'Olá'\\n'Tchau'\\n'Obrigado(a)'\\n'Até mais'\\n\").lower()\n",
        "\n",
        "if idioma == 'ingles':\n",
        "  if mensagem == 'ola':\n",
        "    print(\"Hello\")\n",
        "  elif mensagem == 'tchau':\n",
        "    print(\"Goodbye\")\n",
        "  elif mensagem == 'obrigado' or mensagem == 'obrigada':\n",
        "    print(\"Thank you\")\n",
        "  elif mensagem == 'ate mais':\n",
        "    print(\"See you soon\")\n",
        "  else:\n",
        "    print(\"Essa mensagem não está na lista fornecida!\")\n",
        "\n",
        "elif idioma == 'italiano':\n",
        "  if mensagem == 'ola' or mensagem == 'tchau':\n",
        "    print(\"Ciao\")\n",
        "  elif mensagem == 'obrigado' or mensagem == 'obrigada':\n",
        "    print(\"Grazie\")\n",
        "  elif mensagem == 'ate mais':\n",
        "    print(\"A presto\")\n",
        "  else:\n",
        "    print(\"Essa mensagem não está na lista fornecida!\")\n",
        "\n",
        "else:\n",
        "    print(\"Esse idioma não está na lista fornecida!\")\n"
      ],
      "metadata": {
        "colab": {
          "base_uri": "https://localhost:8080/"
        },
        "id": "LTBWXkjlyWds",
        "outputId": "6557ab12-f180-49e2-e1e4-41a4e0cbea8a"
      },
      "execution_count": null,
      "outputs": [
        {
          "output_type": "stream",
          "name": "stdout",
          "text": [
            "Escolha um idioma da lista:\n",
            "Ingles\n",
            "Italiano\n",
            "italiano\n",
            "Escolha uma mensagem para traduzir: \n",
            "'Olá'\n",
            "'Tchau'\n",
            "'Obrigado(a)'\n",
            "'Até mais'\n",
            "ate mais\n",
            "A presto\n"
          ]
        }
      ]
    },
    {
      "cell_type": "code",
      "source": [
        "# Exemplo usado em aula:\n",
        "\n",
        "primeiro = int(input(\"Digite o primeiro número: \"))\n",
        "segundo = int(input(\"Digite o segundo número: \"))\n",
        "terceiro = int(input(\"Digite o terceiro número: \"))\n",
        "\n",
        "print(\"sequência digitada: \",primeiro,'-',segundo,'-',terceiro)\n",
        "\n",
        "if(terceiro < segundo):\n",
        "      aux = terceiro\n",
        "      terceiro = segundo\n",
        "      segundo = aux\n",
        "\n",
        "if(segundo < primeiro):\n",
        "      aux = segundo\n",
        "      segundo = primeiro\n",
        "      primeiro = aux\n",
        "\n",
        "if(terceiro < segundo):\n",
        "      aux = terceiro\n",
        "      terceiro = segundo\n",
        "      segundo = aux\n",
        "\n",
        "print(\"sequência ordenada:\",primeiro,'-',segundo,'-',terceiro)"
      ],
      "metadata": {
        "id": "lTxkl32prjNR",
        "colab": {
          "base_uri": "https://localhost:8080/"
        },
        "outputId": "6c48708c-78d4-4cb8-ad98-71aca6a7e9d6"
      },
      "execution_count": null,
      "outputs": [
        {
          "output_type": "stream",
          "name": "stdout",
          "text": [
            "Digite o primeiro número: 9\n",
            "Digite o segundo número: 7\n",
            "Digite o terceiro número: 5\n",
            "sequência digitada:  9 - 7 - 5\n",
            "sequência ordenada: 5 - 7 - 9\n"
          ]
        }
      ]
    },
    {
      "cell_type": "code",
      "source": [
        "# Outra solução:\n",
        "\n",
        "a = int(input())\n",
        "b = int(input())\n",
        "c = int(input())\n",
        "\n",
        "if a <= b and a<=c and b <= c:\n",
        "    print(f'A ordem crescente é {a} , {b} e {c}')\n",
        "elif a <= b and a <=c and c <= b:\n",
        "    print(f'A ordem crescente é {a} , {c} e {b}')\n",
        "elif b <= a and b <= c and a <= c:\n",
        "    print(f'A ordem crescente é {b} , {a} e {c}')\n",
        "elif b <= a and b <= c and c <= a:\n",
        "    print(f'A ordem crescente é {b} , {c} e {a}')\n",
        "elif c <= a and c <= b and a <= b:\n",
        "    print(f'A ordem crescente é {c} , {a} e {b}')\n",
        "elif c <= a and c <= b and b <= a:\n",
        "    print(f'A ordem crescente é {c} , {b} e {a}')"
      ],
      "metadata": {
        "id": "nrlXMH0IuzdI"
      },
      "execution_count": null,
      "outputs": []
    },
    {
      "cell_type": "markdown",
      "source": [
        "## Exercícios\n",
        "\n",
        "1) Escreva uma pergunta com 4 alternativas a, b, c, d. O usuário vai digitar a letra da alternativa que acha correta e o programa deve mostrar se ele acertou ou errou."
      ],
      "metadata": {
        "id": "k_wg-C8Y1ny9"
      }
    },
    {
      "cell_type": "code",
      "source": [
        "# Resolução do exercício 1:\n",
        "\n"
      ],
      "metadata": {
        "id": "2SaNWU6U10hv"
      },
      "execution_count": null,
      "outputs": []
    },
    {
      "cell_type": "markdown",
      "source": [
        "2) Faça um programa que receba como entrada dois nomes e duas idades.  Compare o valor das duas idades (idade1 > idade2) e exiba qual a pessoa mais velha:\n",
        "\"NomeDaPessoa é a pessoa mais velha.\""
      ],
      "metadata": {
        "id": "cID_Mm6SvppU"
      }
    },
    {
      "cell_type": "code",
      "source": [
        "# Resolução do exercício 2:\n",
        "\n"
      ],
      "metadata": {
        "id": "WouBFJhtvpUC"
      },
      "execution_count": null,
      "outputs": []
    },
    {
      "cell_type": "markdown",
      "source": [
        "3) Faça um algoritmo para receber um número qualquer e informar na tela se é par ou ímpar.\n"
      ],
      "metadata": {
        "id": "O5ENG4_915E6"
      }
    },
    {
      "cell_type": "code",
      "source": [
        "# Resolução do exercício 3:\n",
        "\n"
      ],
      "metadata": {
        "id": "XA6B4ILp19b0"
      },
      "execution_count": null,
      "outputs": []
    },
    {
      "cell_type": "markdown",
      "source": [
        "4) O IMC – Indice de Massa Corporal é um critério da Organização Mundial de Saúde para dar\n",
        "umaindicação sobre a condição de peso de uma pessoa adulta. A fórmula é IMC = peso / ( altura )2\n",
        "\n",
        "Elabore um algoritmo que leia o peso e a altura de um adulto e mostre sua condição de acordo\n",
        "com a tabela abaixo.\n",
        "IMC em adultos Condição\n",
        "Abaixo de 18,5 Abaixo do peso\n",
        "Entre 18,5 e 25 Peso normal\n",
        "Entre 25 e 30 Acima do peso\n",
        "Acima de 30 obeso"
      ],
      "metadata": {
        "id": "aGPxbE6N2T3l"
      }
    },
    {
      "cell_type": "code",
      "source": [
        "# Resolução do exercício 4:\n",
        "\n"
      ],
      "metadata": {
        "id": "083NgcQa2XTJ"
      },
      "execution_count": null,
      "outputs": []
    },
    {
      "cell_type": "markdown",
      "source": [
        "5) Escreva um algoritmo que leia três valores inteiros e diferentes e mostre-os em ordem\n",
        "decrescente."
      ],
      "metadata": {
        "id": "kcDs4rtx2Nbw"
      }
    },
    {
      "cell_type": "code",
      "source": [
        "# Resolução do exercício 5:\n",
        "\n"
      ],
      "metadata": {
        "id": "EAdPc_E-2QJC"
      },
      "execution_count": null,
      "outputs": []
    },
    {
      "cell_type": "markdown",
      "source": [
        "### Exercícios extra"
      ],
      "metadata": {
        "id": "3N6MV0MFxnr9"
      }
    },
    {
      "cell_type": "markdown",
      "source": [
        "1) Faça um algoritmo que leia dois valores inteiros A e B se os valores forem iguais deverá se\n",
        "somar os dois, caso contrário multiplique A por B. Ao final de qualquer um dos cálculos deve-se\n",
        "atribuir o resultado para uma variável C e mostrar seu conteúdo na tela."
      ],
      "metadata": {
        "id": "h23RIacG19x2"
      }
    },
    {
      "cell_type": "code",
      "source": [
        "# Resolução do exercício 1:\n",
        "\n"
      ],
      "metadata": {
        "id": "UNTKu3XR2Bsj"
      },
      "execution_count": null,
      "outputs": []
    },
    {
      "cell_type": "markdown",
      "source": [
        "2) Encontrar o dobro de um número caso ele seja positivo e o seu triplo caso seja negativo,\n",
        "imprimindo o resultado."
      ],
      "metadata": {
        "id": "L2Uw9zRc2CDZ"
      }
    },
    {
      "cell_type": "code",
      "source": [
        "# Resolução do exercício 2:\n",
        "\n"
      ],
      "metadata": {
        "id": "70v7-HvD2FZw"
      },
      "execution_count": null,
      "outputs": []
    },
    {
      "cell_type": "markdown",
      "source": [
        "3) Escreva um algoritmo que lê dois valores booleanos (lógicos), verifica se eles são iguais e então determina se ambos são VERDADEIROS ou FALSOS."
      ],
      "metadata": {
        "id": "h9m_7g6I2FsI"
      }
    },
    {
      "cell_type": "code",
      "source": [
        "# Resolução do exercício 3:\n",
        "\n"
      ],
      "metadata": {
        "id": "8PbvmB0u2Iam"
      },
      "execution_count": null,
      "outputs": []
    },
    {
      "cell_type": "markdown",
      "source": [
        "4) Elabore um algoritmo que calcule o que deve ser pago por um produto, considerando o preço\n",
        "normal de etiqueta e a escolha da condição de pagamento. Utilize os códigos da tabela a seguir\n",
        "para ler qual acondição de pagamento escolhida e efetuar o cálculo adequado. \n",
        "\n",
        "| Código | Condição de pagamento |\n",
        "|:---: |:--- |\n",
        "| 1 | À vista em dinheiro ou cheque, recebe 10% de desconto |\n",
        "| 2 | À vista no cartão de crédito, recebe 15% de desconto |\n",
        "| 3 | Em duas vezes, preço normal de etiqueta sem juros |\n",
        "| 4 | Em três vezes, preço normal de etiqueta mais juros de 10% |"
      ],
      "metadata": {
        "id": "edvKLTFM2Xjh"
      }
    },
    {
      "cell_type": "code",
      "source": [
        "# Resolução do exercício 4:\n",
        "\n"
      ],
      "metadata": {
        "id": "kI6432-53-bP"
      },
      "execution_count": null,
      "outputs": []
    }
  ]
}